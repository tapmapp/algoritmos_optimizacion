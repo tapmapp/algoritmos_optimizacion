{
  "nbformat": 4,
  "nbformat_minor": 0,
  "metadata": {
    "colab": {
      "name": "AG1_Francisco_Roca.ipynb",
      "version": "0.3.2",
      "provenance": [],
      "include_colab_link": true
    },
    "kernelspec": {
      "name": "python3",
      "display_name": "Python 3"
    }
  },
  "cells": [
    {
      "cell_type": "markdown",
      "metadata": {
        "id": "view-in-github",
        "colab_type": "text"
      },
      "source": [
        "<a href=\"https://colab.research.google.com/github/tapmapp/algoritmos_optimizacion/blob/master/AG1/AG1_Francisco_Roca.ipynb\" target=\"_parent\"><img src=\"https://colab.research.google.com/assets/colab-badge.svg\" alt=\"Open In Colab\"/></a>"
      ]
    },
    {
      "metadata": {
        "id": "ZI-Y6xYwMKaS",
        "colab_type": "text"
      },
      "cell_type": "markdown",
      "source": [
        "AG - Actividad 1\n",
        "\n",
        "Francisco Roca\n",
        "\n",
        "https://github.com/tapmapp/algoritmos_optimizacion/blob/master/AG1/AG1_Francisco_Roca.ipynb"
      ]
    },
    {
      "metadata": {
        "id": "Nl6Opw98Mj6J",
        "colab_type": "text"
      },
      "cell_type": "markdown",
      "source": [
        "**Algoritmo Quick Sort: Ejemplo Ordenación lista**"
      ]
    },
    {
      "metadata": {
        "id": "kBBphs32MMfk",
        "colab_type": "code",
        "colab": {}
      },
      "cell_type": "code",
      "source": [
        "# ordenacion rapida\n",
        "A = [9187, 244, 4054, 9222, 8373, 4993, 5265, 5470, 4519, 7182, 2035, 3506, 4337, 7580, 2554, 2824, 8357, 4447, 7379]\n",
        "\n",
        "def quick_sort(A):\n",
        "  if len(A) == 1:\n",
        "    return A\n",
        "  if len(A) == 2:\n",
        "    return [min(A), max(A)]\n",
        "  \n",
        "  LEFT=[]\n",
        "  RIGHT=[]\n",
        "  \n",
        "  pivote = (A[0]+ A[1] + A[2])/3\n",
        "  \n",
        "  for i in A:\n",
        "    if i <= pivote :\n",
        "      LEFT.append(i)\n",
        "    else:\n",
        "      RIGHT.append(i)\n",
        "      \n",
        "  return quick_sort(LEFT) + quick_sort(RIGHT)\n",
        "\n",
        "quick_sort(A)\n"
      ],
      "execution_count": 0,
      "outputs": []
    },
    {
      "metadata": {
        "id": "PsLD25z2MnUv",
        "colab_type": "text"
      },
      "cell_type": "markdown",
      "source": [
        "**Algoritmo Voraz: Ejemplo cambio monedas**"
      ]
    },
    {
      "metadata": {
        "id": "M3WB27TuMigk",
        "colab_type": "code",
        "colab": {}
      },
      "cell_type": "code",
      "source": [
        "sistema = [25, 10, 5 , 1]\n",
        "\n",
        "def cambio_monedas(cantidad, sistema):\n",
        "  \n",
        "  solucion = [0 for i in range(len(sistema))]\n",
        "  \n",
        "  valorAcumulado = 0\n",
        "  \n",
        "  for i in range(len(sistema)):\n",
        "    \n",
        "    monedas = int((cantidad  - valorAcumulado) / sistema[i])\n",
        "    solucion[i] = monedas\n",
        "    \n",
        "    valorAcumulado += monedas * sistema[i]\n",
        "    \n",
        "    if valorAcumulado == cantidad:\n",
        "      return solucion\n",
        "    \n",
        "cambio_monedas(100, sistema)"
      ],
      "execution_count": 0,
      "outputs": []
    },
    {
      "metadata": {
        "id": "E_4IPHZbMr5F",
        "colab_type": "text"
      },
      "cell_type": "markdown",
      "source": [
        "**Back Tracking: Ejemplo Reinas**"
      ]
    },
    {
      "metadata": {
        "id": "BFEyLSVyMx3B",
        "colab_type": "code",
        "colab": {}
      },
      "cell_type": "code",
      "source": [
        "#reinas\n",
        "N = 4\n",
        "solucion = [0 for i in range(N)]\n",
        "etapa = 0\n",
        "\n",
        "def es_prometedora(solucion, etapa):\n",
        "  \n",
        "  for i in range(etapa + 1):\n",
        "    if solucion.count(solucion[i]) > 1:\n",
        "      return False\n",
        "    \n",
        "    # verificar diagonales\n",
        "    for j in range(i + 1, etapa + 1):\n",
        "      if abs(i - j) == abs(solucion[i] - solucion[j]):\n",
        "        return False\n",
        "      \n",
        "  return True\n",
        "\n",
        "def escribe(solucion):\n",
        "  n = len(solucion)\n",
        "  for x in range(n):\n",
        "    print(\"\")\n",
        "    for i in range(n):\n",
        "      if solucion[i] == x + 1:\n",
        "        print(\" X \", end = \"\")\n",
        "      else:\n",
        "        print(\" - \", end = \"\")\n",
        "\n",
        "def reinas(N, solucion, etapa):\n",
        "  \n",
        "  for i in range(1, N+1):\n",
        "    solucion[etapa] = i\n",
        "  \n",
        "    if es_prometedora(solucion, etapa):\n",
        "      if etapa == N-1:\n",
        "        # ultima etapa, imprimimos solucion\n",
        "        print(\"\\n\\nLa solución es:\")\n",
        "        print(solucion)\n",
        "        escribe(solucion)\n",
        "      else:\n",
        "        # no es prometedora\n",
        "        reinas(N, solucion, etapa + 1)\n",
        "    else:\n",
        "      # no es prometedora\n",
        "      None\n",
        "    solucion[etapa] = 0\n",
        "    \n",
        "reinas(N, solucion, etapa)"
      ],
      "execution_count": 0,
      "outputs": []
    }
  ]
}